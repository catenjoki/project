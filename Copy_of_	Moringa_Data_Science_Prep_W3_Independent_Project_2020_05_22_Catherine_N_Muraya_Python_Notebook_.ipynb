{
  "nbformat": 4,
  "nbformat_minor": 0,
  "metadata": {
    "colab": {
      "name": "Copy of \tMoringa_Data_Science_Prep_W3_Independent_Project_2020_05_22_Catherine_N_Muraya_Python_Notebook.",
      "provenance": [],
      "collapsed_sections": [],
      "toc_visible": true,
      "authorship_tag": "ABX9TyN2ot9qFsF0LoH9HUvgo7le",
      "include_colab_link": true
    },
    "kernelspec": {
      "name": "python3",
      "display_name": "Python 3"
    }
  },
  "cells": [
    {
      "cell_type": "markdown",
      "metadata": {
        "id": "view-in-github",
        "colab_type": "text"
      },
      "source": [
        "<a href=\"https://colab.research.google.com/github/catenjoki/project/blob/master/Copy_of_%EF%82%A7%09Moringa_Data_Science_Prep_W3_Independent_Project_2020_05_22_Catherine_N_Muraya_Python_Notebook_.ipynb\" target=\"_parent\"><img src=\"https://colab.research.google.com/assets/colab-badge.svg\" alt=\"Open In Colab\"/></a>"
      ]
    },
    {
      "cell_type": "code",
      "metadata": {
        "id": "4x7HYduNVHcG",
        "colab_type": "code",
        "colab": {}
      },
      "source": [
        "# import the pandas library \n",
        "# \n",
        "import pandas as pd\n",
        "# immport numpy library\n",
        "import numpy as np\n"
      ],
      "execution_count": 0,
      "outputs": []
    },
    {
      "cell_type": "code",
      "metadata": {
        "id": "8dQQ9nWUcg2t",
        "colab_type": "code",
        "colab": {}
      },
      "source": [
        "# create a dataframe from the cells_geo.csv file\n",
        "df = pd.read_csv('cells_geo.csv')\n",
        "df.head"
      ],
      "execution_count": 0,
      "outputs": []
    },
    {
      "cell_type": "code",
      "metadata": {
        "id": "-qB-moUS2hYl",
        "colab_type": "code",
        "colab": {}
      },
      "source": [
        "# create a dataframe from the cells_geo.csv file\n",
        "df = pd.read_csv('cells_geo.csv' .usecols=[0,1,2,3,4])"
      ],
      "execution_count": 0,
      "outputs": []
    },
    {
      "cell_type": "code",
      "metadata": {
        "id": "CNty-PGojyHp",
        "colab_type": "code",
        "colab": {}
      },
      "source": [
        "# create a dataframe from cells_geo_description excel file\n",
        "#\n",
        "df = pd.read_excel('cells_geo_description.xlsx')\n",
        "df.head(8)"
      ],
      "execution_count": 0,
      "outputs": []
    },
    {
      "cell_type": "code",
      "metadata": {
        "id": "CqSvJllFmSYp",
        "colab_type": "code",
        "colab": {}
      },
      "source": [
        "# create a dataframe from the Telcom_dataset2.csv file\n",
        "df = pd.read_csv('Telcom_dataset2 csv')\n",
        "df.head(6)"
      ],
      "execution_count": 0,
      "outputs": []
    },
    {
      "cell_type": "code",
      "metadata": {
        "id": "SAlnUWxafXw-",
        "colab_type": "code",
        "colab": {}
      },
      "source": [
        "# create a dataframe from the Telcom_dataset.csv file\n",
        "df = pd.read_csv('Telcom_dataset.csv')\n",
        "df.head"
      ],
      "execution_count": 0,
      "outputs": []
    }
  ]
}